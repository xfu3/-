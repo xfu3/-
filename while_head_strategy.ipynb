{
 "cells": [
  {
   "cell_type": "code",
   "execution_count": 2,
   "id": "4eb4931f",
   "metadata": {},
   "outputs": [
    {
     "name": "stderr",
     "output_type": "stream",
     "text": [
      "Missing colon in file PosixPath('/Users/admin/opt/anaconda3/lib/python3.8/site-packages/matplotlib/mpl-data/matplotlibrc'), line 1 ('sans-serif#### MATPLOTLIBRC FORMAT')\n",
      "Missing colon in file '/Users/admin/opt/anaconda3/lib/python3.8/site-packages/matplotlib/mpl-data/matplotlibrc', line 1 ('sans-serif#### MATPLOTLIBRC FORMAT')\n"
     ]
    }
   ],
   "source": [
    "import pandas as pd\n",
    "import numpy as np\n",
    "import matplotlib\n",
    "import matplotlib.pyplot as plt\n",
    "import matplotlib as mp\n",
    "from matplotlib import cm\n",
    "from collections import OrderedDict\n",
    "import seaborn as sns\n",
    "\n",
    "from sklearn.base import BaseEstimator, TransformerMixin\n",
    "from sklearn.model_selection import KFold\n",
    "\n",
    "from xgboost import XGBClassifier\n",
    "from xgboost import plot_importance\n",
    "from sklearn.model_selection import GridSearchCV,RandomizedSearchCV\n",
    "from sklearn.model_selection import cross_validate,cross_val_score\n",
    "from sklearn.model_selection import train_test_split\n",
    "from sklearn.metrics import fbeta_score, make_scorer\n",
    "\n",
    "from sklearn.linear_model import LogisticRegression\n",
    "from sklearn.ensemble import RandomForestClassifier\n",
    "\n",
    "from sklearn.preprocessing import StandardScaler\n",
    "from sklearn.decomposition import PCA\n",
    "\n",
    "from matplotlib import font_manager\n",
    "\n",
    "import warnings\n",
    "import time\n",
    "warnings.filterwarnings('ignore')"
   ]
  },
  {
   "cell_type": "markdown",
   "id": "798d0521",
   "metadata": {},
   "source": [
    "# Functions"
   ]
  },
  {
   "cell_type": "code",
   "execution_count": 3,
   "id": "a4dd07f1",
   "metadata": {
    "code_folding": []
   },
   "outputs": [],
   "source": [
    "## Adjust graph spines\n",
    "def adjust_spines(ax, spines):\n",
    "    for loc, spine in ax.spines.items():\n",
    "        if loc in spines:\n",
    "            spine.set_position(('outward', 20))  # outward by 10 points\n",
    "            #spine.set_smart_bounds(True)\n",
    "        else:\n",
    "            spine.set_color('none')  # don't draw spine\n",
    "class test_result:\n",
    "    def __init__(self, pay_head, poke_head,sale_head,bucket_head,poke_job,bucket_job):\n",
    "        \"\"\"\n",
    "        :param labels:数组类型，真实的标签\n",
    "        :param scores:数组类型，分类器的得分\n",
    "        \"\"\"\n",
    "        self.pay_head = pay_head\n",
    "        self.poke_head = poke_head\n",
    "        self.sale_head = sale_head\n",
    "        self.bucket_head = bucket_head\n",
    "        self.poke_job = poke_job\n",
    "        self.bucket_job = bucket_job\n",
    "    \n",
    "\n",
    "    def precision(self):\n",
    "        \"\"\"\n",
    "        :return: 付费转化\n",
    "        \"\"\"\n",
    "        try:\n",
    "            precision = self.pay_head / self.poke_head\n",
    "        except ZeroDivisionError:\n",
    "            precision = np.nan\n",
    "        \n",
    "        return precision\n",
    " \n",
    "    def recall(self):\n",
    "        \"\"\"\n",
    "        :return: 收入召回\n",
    "        \"\"\"\n",
    "        try:\n",
    "            recall = self.sale_head / self.bucket_head\n",
    "        except ZeroDivisionError:\n",
    "            recall = np.nan\n",
    "        \n",
    "        return recall\n",
    "    \n",
    "    def block(self):\n",
    "        try:\n",
    "            block_range = self.poke_job / self.bucket_job\n",
    "        except ZeroDivisionError:\n",
    "            block_range = np.nan\n",
    "        \n",
    "        return block_range\n",
    "    \n",
    "    def f_beta(self,beta):\n",
    "        precision = self.precision()\n",
    "        recall = self.recall()\n",
    "        \n",
    "        f_score = (1+beta**2)*((precision*recall/((beta**2)*precision+recall)))\n",
    "        return f_score\n",
    " \n",
    "    def get_eval_metrics(self):\n",
    "        print(\"Precision = {:0.3f},Recall = {:0.3f},Block Range = {:0.3f},F_score = {:0.3f}\".format(self.precision(),self.recall(),self.block(),self.f_beta(beta = 0.5)))\n",
    "    \n",
    "    def get_eval_metrics_df(self,mon,stra):\n",
    "        row = {\"Strategy\":[stra],\"Month\":[mon],\"Precision\":[self.precision()],\"Recall\":[self.recall()],\"Block Range\":[self.block()],\"F_score\":[self.f_beta(beta = 0.5)]}\n",
    "        \n",
    "        df = pd.DataFrame(row)\n",
    "        return(df)\n",
    "    \n",
    "    def get_eval_metrics_df_2(self,mon,i,j,k):\n",
    "        row = {\"Month\":[mon],\"Precision\":[self.precision()],\"Recall\":[self.recall()],\"Block Range\":[self.block()],\"F_score\":[self.f_beta(beta = 0.5)],\"i\":i,\"j\":j,\"k\":k}\n",
    "        \n",
    "        df = pd.DataFrame(row)\n",
    "        return(df)\n",
    "        \n",
    "## calculate value    \n",
    "def metric(dat,var):\n",
    "    pay_head = dat.loc[(dat[var] == 1)&(dat.is_paid == 1),\"h_boss_ratio_begin_bin\"].count()\n",
    "    poke_head = dat.loc[(dat.is_poked == \"poked\")&(dat[var] == 1),\"h_boss_ratio_begin_bin\"].count()\n",
    "\n",
    "    sale_head = dat.loc[(dat[var] == 1),\"sales\"].sum()\n",
    "    bucket_head = dat.loc[:,\"sales\"].sum()\n",
    "\n",
    "    poke_job = dat.loc[(dat[var] == 1),\"olj_1\"].sum()\n",
    "    bucket_job = dat.loc[:,\"olj_1\"].sum()\n",
    "\n",
    "    test = test_result(pay_head,poke_head,sale_head,bucket_head,poke_job,bucket_job)\n",
    "\n",
    "    test.get_eval_metrics()\n",
    " \n",
    "\n",
    "# build dataframe\n",
    "def metric_df(dat,var,mon,stra):\n",
    "    pay_head = dat.loc[(dat[var] == 1)&(dat.is_paid == 1),var].count()\n",
    "    poke_head = dat.loc[(dat.is_poked == \"poked\")&(dat[var] == 1),var].count()\n",
    "\n",
    "    sale_head = dat.loc[(dat[var] == 1),\"sales\"].sum()\n",
    "    bucket_head = dat.loc[:,\"sales\"].sum()\n",
    "\n",
    "    poke_job = dat.loc[(dat[var] == 1),\"olj_1\"].sum()\n",
    "    bucket_job = dat.loc[:,\"olj_1\"].sum()\n",
    "\n",
    "    test = test_result(pay_head,poke_head,sale_head,bucket_head,poke_job,bucket_job)\n",
    "\n",
    "    return(test.get_eval_metrics_df(mon,stra))\n",
    "\n",
    "# build dataframe for 精度优化\n",
    "def metric_df_2(dat,var,mon,i,j,k):\n",
    "    pay_head = dat.loc[(dat[var] == 1)&(dat.is_paid == 1),var].count()\n",
    "    poke_head = dat.loc[(dat.is_poked == \"poked\")&(dat[var] == 1),var].count()\n",
    "\n",
    "    sale_head = dat.loc[(dat[var] == 1),\"sales\"].sum()\n",
    "    bucket_head = dat.loc[:,\"sales\"].sum()\n",
    "\n",
    "    poke_job = dat.loc[(dat[var] == 1),\"olj_1\"].sum()\n",
    "    bucket_job = dat.loc[:,\"olj_1\"].sum()\n",
    "\n",
    "    test = test_result(pay_head,poke_head,sale_head,bucket_head,poke_job,bucket_job)\n",
    "\n",
    "    return(test.get_eval_metrics_df_2(mon,i,j,k))"
   ]
  },
  {
   "cell_type": "markdown",
   "id": "07f068ae",
   "metadata": {},
   "source": [
    "# Data loading"
   ]
  },
  {
   "cell_type": "code",
   "execution_count": 26,
   "id": "bef9df21",
   "metadata": {},
   "outputs": [],
   "source": [
    "jan = pd.read_csv('jan2.csv',encoding = \"GBK\")\n",
    "feb = pd.read_csv('feb.csv',encoding = \"GBK\")\n",
    "mar = pd.read_csv('mar.csv',encoding = \"GBK\")\n",
    "apr = pd.read_csv('apr.csv',encoding = \"GBK\")\n",
    "may = pd.read_csv('may.csv',encoding = \"GBK\")\n",
    "jun = pd.read_csv('jun.csv',encoding = \"GBK\")\n",
    "jul = pd.read_csv('jul.csv',encoding = \"GBK\")\n",
    "aug = pd.read_csv('aug.csv',encoding = \"GBK\")"
   ]
  },
  {
   "cell_type": "code",
   "execution_count": 22,
   "id": "718a13c7",
   "metadata": {},
   "outputs": [],
   "source": [
    "# com_size_aug = com_size.loc[com_size.ds == \"2021-07-31\",[\"com_id\",\"brand_scale\"]]"
   ]
  },
  {
   "cell_type": "code",
   "execution_count": 23,
   "id": "5bf3907f",
   "metadata": {},
   "outputs": [],
   "source": [
    "# feb_full = feb_full.merge(com_size_aug, how='left', on=[\"com_id\"])"
   ]
  },
  {
   "cell_type": "code",
   "execution_count": 27,
   "id": "e62a21b5",
   "metadata": {},
   "outputs": [],
   "source": [
    "dat_lis = [jan,feb,mar,apr,may,jun,jul,aug]\n",
    "dat_dic = {\"Jan\":jan,\"Feb\":feb,\"Mar\":mar,\"Apr\":apr,\"May\":may,\"Jun\":jun,\"Jul\":jul,\"Aug\":aug}"
   ]
  },
  {
   "cell_type": "code",
   "execution_count": 28,
   "id": "ad77b421",
   "metadata": {},
   "outputs": [],
   "source": [
    "for dat in dat_lis:\n",
    "#     dat.loc[dat.accept_num.isna(),\"accept_num\"] = -1\n",
    "#     dat.loc[dat.max_accept_day.isna(),\"max_accept_day\"] = -1\n",
    "    \n",
    "    dat.fillna(0,inplace = True)\n",
    "\n",
    "    ## is_paid\n",
    "    dat.loc[dat[\"is_paid\"] == \"paid\",\"is_paid\"] = 1\n",
    "    dat.loc[dat[\"is_paid\"] == \"unpaid\",\"is_paid\"] = 0\n",
    "    dat[\"is_paid\"] = dat[\"is_paid\"].astype('int')\n",
    "\n",
    "    ## deleted\n",
    "    dat.loc[dat[\"is_del\"] == \"deleted\",\"is_del\"] = 1\n",
    "    dat.loc[dat[\"is_del\"] == \"undeleted\",\"is_del\"] = 0\n",
    "    dat[\"is_del\"] = dat[\"is_del\"].astype('int')\n"
   ]
  },
  {
   "cell_type": "code",
   "execution_count": 35,
   "id": "64f6a628",
   "metadata": {},
   "outputs": [
    {
     "name": "stdout",
     "output_type": "stream",
     "text": [
      "Precision = 0.465,Recall = 0.344,Block Range = 0.177,F_score = 0.435\n",
      "Precision = 0.457,Recall = 0.271,Block Range = 0.176,F_score = 0.402\n",
      "Precision = 0.440,Recall = 0.306,Block Range = 0.188,F_score = 0.405\n",
      "Precision = 0.438,Recall = 0.336,Block Range = 0.179,F_score = 0.413\n",
      "Precision = 0.472,Recall = 0.334,Block Range = 0.170,F_score = 0.436\n",
      "Precision = 0.510,Recall = 0.329,Block Range = 0.170,F_score = 0.459\n",
      "Precision = 0.515,Recall = 0.347,Block Range = 0.168,F_score = 0.470\n",
      "Precision = 0.547,Recall = 0.371,Block Range = 0.168,F_score = 0.500\n"
     ]
    }
   ],
   "source": [
    "for dat in dat_lis:    \n",
    "    dat[\"h_boss_ratio_begin_bin\"] = 0\n",
    "    #con = ((((dat.h_boss_ratio_begin >0.3)|(dat.h_boss_ratio_end >0.3))))|((dat.olj_1==0)&((dat.del_exp_cnt_365 >=0)|(dat.exposure_pv_180>=698)|(dat.accepts_p_365>=10)))\n",
    "    con = (dat.is_new_com == 0)&((((dat.h_boss_ratio_begin >0.3)|(dat.h_boss_ratio_end >0.3))))|((dat.olj_1==0)&((dat.del_exp_cnt_365 >= 27)|(dat.exposure_pv_180>=698)|(dat.accepts_p_365>=10)))\n",
    "    #con = (((dat.h_boss_ratio_begin >0.3)|(dat.h_boss_ratio_end >0.3))|(dat.olj_1==0))\n",
    "    #con = ((dat.is_new_com == 0)&((dat.olj_1 == 0)|((dat.h_boss_ratio_begin >0.3)|(dat.h_boss_ratio_end >0.3))))\n",
    "    #con = ((dat.is_new_com == 0)&(dat.exposure_pv_180 <= 500))\n",
    "    #con = (((dat.is_new_com == 0)&(dat.olj_1 ==0)&((dat.del_exp_cnt_365 >= 27)|(dat.exposure_pv_180>=698)|(dat.accepts_p_365>=10)))|((dat.accept_num < 25)&(dat.max_accept_day < 160)&(dat.accept_num >=0)&(dat.max_accept_day >=0)))\n",
    "    dat[\"com_bin_final\"] = 0\n",
    "    dat.loc[con,\"com_bin_final\"] = 1\n",
    "\n",
    "    metric(dat,\"com_bin_final\")"
   ]
  },
  {
   "cell_type": "markdown",
   "id": "1f7d0748",
   "metadata": {},
   "source": [
    "# 精度优化"
   ]
  },
  {
   "cell_type": "code",
   "execution_count": 203,
   "id": "829b8346",
   "metadata": {},
   "outputs": [],
   "source": [
    "ii = [s for s in range(1,31)]\n",
    "jj = [10*x for x in range(1,91)]\n",
    "kk = [x for x in range(1,11)]\n",
    "dat_fr = pd.DataFrame(columns=['Month','Precision',\"Recall\",\"Block Range\",\"F_score\"])\n",
    "\n",
    "for m in range(8):\n",
    "    mon = list(dat_dic.keys())[m]\n",
    "    dat = list(dat_dic.values())[m]\n",
    "    for i in ii:\n",
    "        for j in jj:\n",
    "            for k in kk:\n",
    "                dat[\"h_boss_ratio_begin_bin\"] = 0\n",
    "\n",
    "                con = (dat.is_new_com == 0)&((((dat.h_boss_ratio_begin >0.3)|(dat.h_boss_ratio_end >0.3))))|((dat.olj_1==0)&((dat.del_exp_cnt_365 >= i)|(dat.exposure_pv_180>=j)|(dat.accepts_p_365>=k)))\n",
    "                dat[\"com_bin_final\"] = 0\n",
    "                dat.loc[con,\"com_bin_final\"] = 1\n",
    "\n",
    "                sub = metric_df_2(dat,\"com_bin_final\",mon,i,j,k)\n",
    "                dat_fr = pd.concat([dat_fr,sub],ignore_index = True,axis = 0)"
   ]
  },
  {
   "cell_type": "code",
   "execution_count": 200,
   "id": "b12e3709",
   "metadata": {},
   "outputs": [],
   "source": [
    "dat_fr[\"Month\"] = dat_fr[\"Month\"].astype(\"category\")\n",
    "my_order = [\"Jan\",\"Feb\",\"Mar\",\"Apr\",\"May\",\"Jun\",\"Jul\",\"Aug\"]\n",
    "dat_fr[\"Month\"].cat.reorder_categories(my_order, inplace= True)"
   ]
  },
  {
   "cell_type": "code",
   "execution_count": 201,
   "id": "0d34d965",
   "metadata": {},
   "outputs": [],
   "source": [
    "def max_F(df):\n",
    "    return df.sort_values(by = \"F_score\",ascending = False).iloc[0,:]"
   ]
  },
  {
   "cell_type": "code",
   "execution_count": 202,
   "id": "e0946a06",
   "metadata": {},
   "outputs": [
    {
     "data": {
      "text/html": [
       "<div>\n",
       "<style scoped>\n",
       "    .dataframe tbody tr th:only-of-type {\n",
       "        vertical-align: middle;\n",
       "    }\n",
       "\n",
       "    .dataframe tbody tr th {\n",
       "        vertical-align: top;\n",
       "    }\n",
       "\n",
       "    .dataframe thead th {\n",
       "        text-align: right;\n",
       "    }\n",
       "</style>\n",
       "<table border=\"1\" class=\"dataframe\">\n",
       "  <thead>\n",
       "    <tr style=\"text-align: right;\">\n",
       "      <th></th>\n",
       "      <th>Month</th>\n",
       "      <th>Precision</th>\n",
       "      <th>Recall</th>\n",
       "      <th>Block Range</th>\n",
       "      <th>F_score</th>\n",
       "      <th>i</th>\n",
       "      <th>j</th>\n",
       "      <th>k</th>\n",
       "    </tr>\n",
       "  </thead>\n",
       "  <tbody>\n",
       "    <tr>\n",
       "      <th>0</th>\n",
       "      <td>Jan</td>\n",
       "      <td>0.479452</td>\n",
       "      <td>0.355043</td>\n",
       "      <td>0.177488</td>\n",
       "      <td>0.448052</td>\n",
       "      <td>11.0</td>\n",
       "      <td>590.0</td>\n",
       "      <td>9.0</td>\n",
       "    </tr>\n",
       "    <tr>\n",
       "      <th>1</th>\n",
       "      <td>Feb</td>\n",
       "      <td>0.452110</td>\n",
       "      <td>0.295818</td>\n",
       "      <td>0.175529</td>\n",
       "      <td>0.408902</td>\n",
       "      <td>3.0</td>\n",
       "      <td>30.0</td>\n",
       "      <td>7.0</td>\n",
       "    </tr>\n",
       "    <tr>\n",
       "      <th>2</th>\n",
       "      <td>Mar</td>\n",
       "      <td>0.428386</td>\n",
       "      <td>0.349618</td>\n",
       "      <td>0.187698</td>\n",
       "      <td>0.409916</td>\n",
       "      <td>1.0</td>\n",
       "      <td>20.0</td>\n",
       "      <td>7.0</td>\n",
       "    </tr>\n",
       "    <tr>\n",
       "      <th>3</th>\n",
       "      <td>Apr</td>\n",
       "      <td>0.439944</td>\n",
       "      <td>0.337277</td>\n",
       "      <td>0.178891</td>\n",
       "      <td>0.414697</td>\n",
       "      <td>30.0</td>\n",
       "      <td>830.0</td>\n",
       "      <td>4.0</td>\n",
       "    </tr>\n",
       "    <tr>\n",
       "      <th>4</th>\n",
       "      <td>May</td>\n",
       "      <td>0.481671</td>\n",
       "      <td>0.323569</td>\n",
       "      <td>0.169690</td>\n",
       "      <td>0.438791</td>\n",
       "      <td>19.0</td>\n",
       "      <td>900.0</td>\n",
       "      <td>10.0</td>\n",
       "    </tr>\n",
       "    <tr>\n",
       "      <th>5</th>\n",
       "      <td>Jun</td>\n",
       "      <td>0.483045</td>\n",
       "      <td>0.408864</td>\n",
       "      <td>0.170046</td>\n",
       "      <td>0.466131</td>\n",
       "      <td>3.0</td>\n",
       "      <td>100.0</td>\n",
       "      <td>4.0</td>\n",
       "    </tr>\n",
       "    <tr>\n",
       "      <th>6</th>\n",
       "      <td>Jul</td>\n",
       "      <td>0.504474</td>\n",
       "      <td>0.369525</td>\n",
       "      <td>0.167543</td>\n",
       "      <td>0.470136</td>\n",
       "      <td>4.0</td>\n",
       "      <td>830.0</td>\n",
       "      <td>4.0</td>\n",
       "    </tr>\n",
       "    <tr>\n",
       "      <th>7</th>\n",
       "      <td>Aug</td>\n",
       "      <td>0.549405</td>\n",
       "      <td>0.367055</td>\n",
       "      <td>0.167574</td>\n",
       "      <td>0.499751</td>\n",
       "      <td>24.0</td>\n",
       "      <td>870.0</td>\n",
       "      <td>5.0</td>\n",
       "    </tr>\n",
       "  </tbody>\n",
       "</table>\n",
       "</div>"
      ],
      "text/plain": [
       "  Month  Precision    Recall  Block Range   F_score     i      j     k\n",
       "0   Jan   0.479452  0.355043     0.177488  0.448052  11.0  590.0   9.0\n",
       "1   Feb   0.452110  0.295818     0.175529  0.408902   3.0   30.0   7.0\n",
       "2   Mar   0.428386  0.349618     0.187698  0.409916   1.0   20.0   7.0\n",
       "3   Apr   0.439944  0.337277     0.178891  0.414697  30.0  830.0   4.0\n",
       "4   May   0.481671  0.323569     0.169690  0.438791  19.0  900.0  10.0\n",
       "5   Jun   0.483045  0.408864     0.170046  0.466131   3.0  100.0   4.0\n",
       "6   Jul   0.504474  0.369525     0.167543  0.470136   4.0  830.0   4.0\n",
       "7   Aug   0.549405  0.367055     0.167574  0.499751  24.0  870.0   5.0"
      ]
     },
     "execution_count": 202,
     "metadata": {},
     "output_type": "execute_result"
    }
   ],
   "source": [
    "dat_fr.groupby(\"Month\",as_index = False).apply(max_F)"
   ]
  },
  {
   "cell_type": "code",
   "execution_count": 136,
   "id": "8568e8ed",
   "metadata": {},
   "outputs": [
    {
     "data": {
      "text/html": [
       "<div>\n",
       "<style scoped>\n",
       "    .dataframe tbody tr th:only-of-type {\n",
       "        vertical-align: middle;\n",
       "    }\n",
       "\n",
       "    .dataframe tbody tr th {\n",
       "        vertical-align: top;\n",
       "    }\n",
       "\n",
       "    .dataframe thead th {\n",
       "        text-align: right;\n",
       "    }\n",
       "</style>\n",
       "<table border=\"1\" class=\"dataframe\">\n",
       "  <thead>\n",
       "    <tr style=\"text-align: right;\">\n",
       "      <th></th>\n",
       "      <th>Month</th>\n",
       "      <th>Precision</th>\n",
       "      <th>Recall</th>\n",
       "      <th>Block Range</th>\n",
       "      <th>F_score</th>\n",
       "      <th>i</th>\n",
       "      <th>j</th>\n",
       "      <th>k</th>\n",
       "    </tr>\n",
       "  </thead>\n",
       "  <tbody>\n",
       "    <tr>\n",
       "      <th>2759</th>\n",
       "      <td>may</td>\n",
       "      <td>0.466315</td>\n",
       "      <td>0.350181</td>\n",
       "      <td>0.16969</td>\n",
       "      <td>0.43731</td>\n",
       "      <td>28.0</td>\n",
       "      <td>500.0</td>\n",
       "      <td>10.0</td>\n",
       "    </tr>\n",
       "  </tbody>\n",
       "</table>\n",
       "</div>"
      ],
      "text/plain": [
       "     Month  Precision    Recall  Block Range  F_score     i      j     k\n",
       "2759   may   0.466315  0.350181      0.16969  0.43731  28.0  500.0  10.0"
      ]
     },
     "execution_count": 136,
     "metadata": {},
     "output_type": "execute_result"
    }
   ],
   "source": [
    "dat_fr_4.loc[dat_fr_4.F_score == np.amax(dat_fr_4.iloc[:,[1,2,3,4]],axis = 0)[3],:]"
   ]
  },
  {
   "cell_type": "code",
   "execution_count": 1992,
   "id": "117fa072",
   "metadata": {},
   "outputs": [],
   "source": [
    "dat_dic = {\"Jan\":jan,\"Feb\":feb,\"Mar\":mar,\"Apr\":apr,\"May\":may,\"Jun\":jun,\"Jul\":jul,\"Aug\":aug}\n",
    "dat_fra = pd.DataFrame(columns=['Strategy','Month','Precision',\"Recall\",\"Block Range\",\"F_score\"])\n",
    "stra_lis = [\"strategy 1\",\"strategy 2\"]\n",
    "\n",
    "for stra in stra_lis:\n",
    "    for mon, dat in dat_dic.items():    \n",
    "        dat[\"h_boss_ratio_begin_bin\"] = 0\n",
    "        if stra == \"strategy 1\":\n",
    "            con = (dat.is_new_com == 0)&((((dat.h_boss_ratio_begin >0.3)|(dat.h_boss_ratio_end >0.3))))|((dat.olj_1==0)&((dat.del_exp_cnt_365 >= 27)|(dat.exposure_pv_180>=698)|(dat.accepts_p_365>=10)))\n",
    "        else:\n",
    "            con = ((dat.is_new_com == 0)&(dat.olj_1 ==0))|((dat.accept_num < 25)&(dat.max_accept_day < 160)&(dat.accept_num >=0)&(dat.max_accept_day >=0))\n",
    "        \n",
    "        dat[\"com_bin_final\"] = 0\n",
    "        dat.loc[con,\"com_bin_final\"] = 1\n",
    "\n",
    "        sub = metric_df(dat,\"com_bin_final\",mon,stra)\n",
    "        dat_fra = pd.concat([dat_fra,sub],ignore_index = True,axis = 0)\n"
   ]
  },
  {
   "cell_type": "markdown",
   "id": "4cf2132f",
   "metadata": {},
   "source": [
    "# Visualization"
   ]
  },
  {
   "cell_type": "code",
   "execution_count": 2041,
   "id": "8d160c9d",
   "metadata": {},
   "outputs": [
    {
     "data": {
      "image/png": "[encoded data removed]",
      "text/plain": [
       "<Figure size 1152x720 with 4 Axes>"
      ]
     },
     "metadata": {
      "needs_background": "light"
     },
     "output_type": "display_data"
    }
   ],
   "source": [
    "fig, axes = plt.subplots(2,2,figsize=(16,10))\n",
    "\n",
    "## 付费转化\n",
    "sns.lineplot(data=dat_fra, x=\"Month\", y=\"Precision\",hue=\"Strategy\",style = \"Strategy\",dashes=False,markers = True,ax =axes[0,0])\n",
    "\n",
    "axes[0,0].tick_params(axis= \"both\",direction = 'out',which='major', length=6.8,width=0.8,labelsize =16)\n",
    "\n",
    "axes[0,0].set_xlabel(\"Month[Year = 2021]\",size = 18,labelpad=16)\n",
    "axes[0,0].set_ylabel(\"Sales Precision\",size = 18,labelpad=16)\n",
    "\n",
    "axes[0,0].spines['left'].set_bounds(0.3,0.6)\n",
    "axes[0,0].spines['bottom'].set_bounds(0,7)\n",
    "\n",
    "axes[0,0].axhline(y=0.45, color='r', linestyle='--',label = \"Threshold = 0.45\")\n",
    "\n",
    "# plt.tight_layout()\n",
    "axes[0,0].set_yticks([0.05*i for i in range(6,13)])\n",
    "axes[0,0].legend(loc=\"best\",fontsize = 15)\n",
    "adjust_spines(axes[0,0], ['left', 'bottom'])\n",
    "\n",
    "\n",
    "## 收入召回\n",
    "sns.lineplot(data=dat_fra, x=\"Month\", y=\"Recall\",hue=\"Strategy\",style = \"Strategy\",dashes=False,markers=True,ax =axes[0,1])\n",
    "\n",
    "\n",
    "axes[0,1].tick_params(axis= \"both\",direction = 'out',which='major',length=6.8,width=0.8,labelsize =16)\n",
    "\n",
    "axes[0,1].set_xlabel(\"Month[Year = 2021]\",size = 18,labelpad=16)\n",
    "axes[0,1].set_ylabel(\"Revenue Recall\",size = 18,labelpad=16)\n",
    "\n",
    "\n",
    "axes[0,1].spines['left'].set_bounds(0.25,0.65)\n",
    "axes[0,1].spines['bottom'].set_bounds(0,7)\n",
    "axes[0,1].axhline(y=0.3, color='r', linestyle='--',label = \"Threshold = 0.3\")\n",
    "\n",
    "# plt.tight_layout()\n",
    "axes[0,1].set_yticks([0.05*i for i in range(5,14)])\n",
    "axes[0,1].legend(loc=\"best\",fontsize = 15)\n",
    "\n",
    "adjust_spines(axes[0,1],['left', 'bottom'])\n",
    "\n",
    "\n",
    "## 阻断范围\n",
    "sns.lineplot(data=dat_fra, x=\"Month\", y=\"Block Range\",hue = \"Strategy\",style = \"Strategy\",dashes=False,markers = True,ax =axes[1,0])\n",
    "\n",
    "\n",
    "axes[1,0].tick_params(axis= \"both\",direction = 'out',which='major',length=6.8,width=0.8,labelsize =16)#\n",
    "\n",
    "axes[1,0].set_xlabel(\"Month[Year = 2021]\",size = 18,labelpad=16)\n",
    "axes[1,0].set_ylabel(\"Block Range\",size = 18,labelpad=16)\n",
    "\n",
    "\n",
    "axes[1,0].spines['left'].set_bounds(0.15,0.25)\n",
    "axes[1,0].spines['bottom'].set_bounds(0,7)\n",
    "axes[1,0].axhline(y=0.2, color='r', linestyle='--',label = \"Threshold = 0.2\")\n",
    "\n",
    "# plt.tight_layout()\n",
    "axes[1,0].set_yticks([0.01*i for i in range(15,26)])\n",
    "axes[1,0].legend(loc=\"best\",fontsize = 15)\n",
    "\n",
    "adjust_spines(axes[1,0], ['left', 'bottom'])\n",
    "\n",
    "## F_0.5\n",
    "sns.lineplot(data=dat_fra, x=\"Month\", y=\"F_score\",hue=\"Strategy\",style = \"Strategy\",dashes=False,markers = True,ax =axes[1,1])\n",
    "\n",
    "\n",
    "axes[1,1].tick_params(axis= \"both\",direction = 'out',which='major',length=6.8,width=0.8,labelsize =16)#\n",
    "\n",
    "axes[1,1].set_xlabel(\"Month[Year = 2021]\",size = 18,labelpad=16)\n",
    "axes[1,1].set_ylabel(\"F_0.5\",size = 18,labelpad=16)\n",
    "\n",
    "\n",
    "axes[1,1].spines['left'].set_bounds(0.35,0.5)\n",
    "axes[1,1].spines['bottom'].set_bounds(0,7)\n",
    "\n",
    "\n",
    "\n",
    "axes[1,1].set_yticks([0.01*i for i in range(35,51)])\n",
    "axes[1,1].legend(loc=\"best\",fontsize = 15)\n",
    "\n",
    "adjust_spines(axes[1,1], ['left', 'bottom'])\n",
    "\n",
    "plt.tight_layout()\n",
    "\n",
    "\n",
    "# plt.savefig(\"/code/fxl/head_fire/test_variance/var.png\",dpi = 400)"
   ]
  },
  {
   "cell_type": "code",
   "execution_count": 2002,
   "id": "667a17df",
   "metadata": {},
   "outputs": [
    {
     "data": {
      "text/html": [
       "<div>\n",
       "<style scoped>\n",
       "    .dataframe tbody tr th:only-of-type {\n",
       "        vertical-align: middle;\n",
       "    }\n",
       "\n",
       "    .dataframe tbody tr th {\n",
       "        vertical-align: top;\n",
       "    }\n",
       "\n",
       "    .dataframe thead th {\n",
       "        text-align: right;\n",
       "    }\n",
       "</style>\n",
       "<table border=\"1\" class=\"dataframe\">\n",
       "  <thead>\n",
       "    <tr style=\"text-align: right;\">\n",
       "      <th></th>\n",
       "      <th>Strategy</th>\n",
       "      <th>Month</th>\n",
       "      <th>Precision</th>\n",
       "      <th>Recall</th>\n",
       "      <th>Block Range</th>\n",
       "      <th>F_score</th>\n",
       "    </tr>\n",
       "  </thead>\n",
       "  <tbody>\n",
       "    <tr>\n",
       "      <th>0</th>\n",
       "      <td>strategy 1</td>\n",
       "      <td>Jan</td>\n",
       "      <td>0.465278</td>\n",
       "      <td>0.343760</td>\n",
       "      <td>0.177488</td>\n",
       "      <td>0.434555</td>\n",
       "    </tr>\n",
       "    <tr>\n",
       "      <th>1</th>\n",
       "      <td>strategy 1</td>\n",
       "      <td>Feb</td>\n",
       "      <td>0.457122</td>\n",
       "      <td>0.270876</td>\n",
       "      <td>0.175529</td>\n",
       "      <td>0.401861</td>\n",
       "    </tr>\n",
       "    <tr>\n",
       "      <th>2</th>\n",
       "      <td>strategy 1</td>\n",
       "      <td>Mar</td>\n",
       "      <td>0.440232</td>\n",
       "      <td>0.306333</td>\n",
       "      <td>0.187698</td>\n",
       "      <td>0.404841</td>\n",
       "    </tr>\n",
       "    <tr>\n",
       "      <th>3</th>\n",
       "      <td>strategy 1</td>\n",
       "      <td>Apr</td>\n",
       "      <td>0.438128</td>\n",
       "      <td>0.335968</td>\n",
       "      <td>0.178891</td>\n",
       "      <td>0.413011</td>\n",
       "    </tr>\n",
       "    <tr>\n",
       "      <th>4</th>\n",
       "      <td>strategy 1</td>\n",
       "      <td>May</td>\n",
       "      <td>0.471751</td>\n",
       "      <td>0.334160</td>\n",
       "      <td>0.169690</td>\n",
       "      <td>0.435858</td>\n",
       "    </tr>\n",
       "    <tr>\n",
       "      <th>5</th>\n",
       "      <td>strategy 1</td>\n",
       "      <td>Jun</td>\n",
       "      <td>0.509530</td>\n",
       "      <td>0.329235</td>\n",
       "      <td>0.170046</td>\n",
       "      <td>0.459233</td>\n",
       "    </tr>\n",
       "    <tr>\n",
       "      <th>6</th>\n",
       "      <td>strategy 1</td>\n",
       "      <td>Jul</td>\n",
       "      <td>0.515208</td>\n",
       "      <td>0.347313</td>\n",
       "      <td>0.167543</td>\n",
       "      <td>0.469788</td>\n",
       "    </tr>\n",
       "    <tr>\n",
       "      <th>7</th>\n",
       "      <td>strategy 1</td>\n",
       "      <td>Aug</td>\n",
       "      <td>0.546930</td>\n",
       "      <td>0.370909</td>\n",
       "      <td>0.167574</td>\n",
       "      <td>0.499519</td>\n",
       "    </tr>\n",
       "    <tr>\n",
       "      <th>8</th>\n",
       "      <td>strategy 2</td>\n",
       "      <td>Jan</td>\n",
       "      <td>0.377193</td>\n",
       "      <td>0.621074</td>\n",
       "      <td>0.219028</td>\n",
       "      <td>0.409341</td>\n",
       "    </tr>\n",
       "    <tr>\n",
       "      <th>9</th>\n",
       "      <td>strategy 2</td>\n",
       "      <td>Feb</td>\n",
       "      <td>0.355629</td>\n",
       "      <td>0.359699</td>\n",
       "      <td>0.216014</td>\n",
       "      <td>0.356436</td>\n",
       "    </tr>\n",
       "    <tr>\n",
       "      <th>10</th>\n",
       "      <td>strategy 2</td>\n",
       "      <td>Mar</td>\n",
       "      <td>0.393551</td>\n",
       "      <td>0.441896</td>\n",
       "      <td>0.176669</td>\n",
       "      <td>0.402355</td>\n",
       "    </tr>\n",
       "    <tr>\n",
       "      <th>11</th>\n",
       "      <td>strategy 2</td>\n",
       "      <td>Apr</td>\n",
       "      <td>0.396242</td>\n",
       "      <td>0.513996</td>\n",
       "      <td>0.168978</td>\n",
       "      <td>0.415269</td>\n",
       "    </tr>\n",
       "    <tr>\n",
       "      <th>12</th>\n",
       "      <td>strategy 2</td>\n",
       "      <td>May</td>\n",
       "      <td>0.421751</td>\n",
       "      <td>0.540670</td>\n",
       "      <td>0.187945</td>\n",
       "      <td>0.441157</td>\n",
       "    </tr>\n",
       "    <tr>\n",
       "      <th>13</th>\n",
       "      <td>strategy 2</td>\n",
       "      <td>Jun</td>\n",
       "      <td>0.432740</td>\n",
       "      <td>0.549199</td>\n",
       "      <td>0.185943</td>\n",
       "      <td>0.451906</td>\n",
       "    </tr>\n",
       "    <tr>\n",
       "      <th>14</th>\n",
       "      <td>strategy 2</td>\n",
       "      <td>Jul</td>\n",
       "      <td>0.426282</td>\n",
       "      <td>0.567258</td>\n",
       "      <td>0.182312</td>\n",
       "      <td>0.448578</td>\n",
       "    </tr>\n",
       "    <tr>\n",
       "      <th>15</th>\n",
       "      <td>strategy 2</td>\n",
       "      <td>Aug</td>\n",
       "      <td>0.439582</td>\n",
       "      <td>0.586433</td>\n",
       "      <td>0.182209</td>\n",
       "      <td>0.462758</td>\n",
       "    </tr>\n",
       "  </tbody>\n",
       "</table>\n",
       "</div>"
      ],
      "text/plain": [
       "      Strategy Month  Precision    Recall  Block Range   F_score\n",
       "0   strategy 1   Jan   0.465278  0.343760     0.177488  0.434555\n",
       "1   strategy 1   Feb   0.457122  0.270876     0.175529  0.401861\n",
       "2   strategy 1   Mar   0.440232  0.306333     0.187698  0.404841\n",
       "3   strategy 1   Apr   0.438128  0.335968     0.178891  0.413011\n",
       "4   strategy 1   May   0.471751  0.334160     0.169690  0.435858\n",
       "5   strategy 1   Jun   0.509530  0.329235     0.170046  0.459233\n",
       "6   strategy 1   Jul   0.515208  0.347313     0.167543  0.469788\n",
       "7   strategy 1   Aug   0.546930  0.370909     0.167574  0.499519\n",
       "8   strategy 2   Jan   0.377193  0.621074     0.219028  0.409341\n",
       "9   strategy 2   Feb   0.355629  0.359699     0.216014  0.356436\n",
       "10  strategy 2   Mar   0.393551  0.441896     0.176669  0.402355\n",
       "11  strategy 2   Apr   0.396242  0.513996     0.168978  0.415269\n",
       "12  strategy 2   May   0.421751  0.540670     0.187945  0.441157\n",
       "13  strategy 2   Jun   0.432740  0.549199     0.185943  0.451906\n",
       "14  strategy 2   Jul   0.426282  0.567258     0.182312  0.448578\n",
       "15  strategy 2   Aug   0.439582  0.586433     0.182209  0.462758"
      ]
     },
     "execution_count": 2002,
     "metadata": {},
     "output_type": "execute_result"
    }
   ],
   "source": [
    "dat_fra"
   ]
  },
  {
   "cell_type": "code",
   "execution_count": 2033,
   "id": "16f28b83",
   "metadata": {},
   "outputs": [
    {
     "data": {
      "text/html": [
       "<div>\n",
       "<style scoped>\n",
       "    .dataframe tbody tr th:only-of-type {\n",
       "        vertical-align: middle;\n",
       "    }\n",
       "\n",
       "    .dataframe tbody tr th {\n",
       "        vertical-align: top;\n",
       "    }\n",
       "\n",
       "    .dataframe thead th {\n",
       "        text-align: right;\n",
       "    }\n",
       "</style>\n",
       "<table border=\"1\" class=\"dataframe\">\n",
       "  <thead>\n",
       "    <tr style=\"text-align: right;\">\n",
       "      <th></th>\n",
       "      <th>Precision</th>\n",
       "      <th>Recall</th>\n",
       "      <th>Block Range</th>\n",
       "      <th>F_score</th>\n",
       "    </tr>\n",
       "    <tr>\n",
       "      <th>Strategy</th>\n",
       "      <th></th>\n",
       "      <th></th>\n",
       "      <th></th>\n",
       "      <th></th>\n",
       "    </tr>\n",
       "  </thead>\n",
       "  <tbody>\n",
       "    <tr>\n",
       "      <th>strategy 1</th>\n",
       "      <td>0.039155</td>\n",
       "      <td>0.029932</td>\n",
       "      <td>0.006995</td>\n",
       "      <td>0.034363</td>\n",
       "    </tr>\n",
       "    <tr>\n",
       "      <th>strategy 2</th>\n",
       "      <td>0.029559</td>\n",
       "      <td>0.084451</td>\n",
       "      <td>0.018045</td>\n",
       "      <td>0.034850</td>\n",
       "    </tr>\n",
       "  </tbody>\n",
       "</table>\n",
       "</div>"
      ],
      "text/plain": [
       "            Precision    Recall  Block Range   F_score\n",
       "Strategy                                              \n",
       "strategy 1   0.039155  0.029932     0.006995  0.034363\n",
       "strategy 2   0.029559  0.084451     0.018045  0.034850"
      ]
     },
     "execution_count": 2033,
     "metadata": {},
     "output_type": "execute_result"
    }
   ],
   "source": [
    "dat_fra.iloc[:,[0,2,3,4,5]].groupby([\"Strategy\"]).std()"
   ]
  },
  {
   "cell_type": "markdown",
   "id": "8b7e243d",
   "metadata": {},
   "source": [
    "# First stage"
   ]
  },
  {
   "cell_type": "markdown",
   "id": "90a92853",
   "metadata": {},
   "source": [
    "## Training"
   ]
  },
  {
   "cell_type": "markdown",
   "id": "d2225998",
   "metadata": {},
   "source": [
    "### h_boss_ratio_begin_bin"
   ]
  },
  {
   "cell_type": "code",
   "execution_count": 1842,
   "id": "1a953e22",
   "metadata": {},
   "outputs": [
    {
     "name": "stdout",
     "output_type": "stream",
     "text": [
      "Precision = 0.520,Recall = 0.084,Block Range = 0.138,F_score = 0.255\n"
     ]
    }
   ],
   "source": [
    "mar_full[\"h_boss_ratio_begin_bin\"] = 0\n",
    "mar_full.loc[(mar_full.is_new_com == 0)&(mar_full.h_boss_ratio_begin >0.4),\"h_boss_ratio_begin_bin\"] = 1\n",
    "\n",
    "metric(mar_full,\"h_boss_ratio_begin_bin\")"
   ]
  },
  {
   "cell_type": "markdown",
   "id": "744c9f77",
   "metadata": {},
   "source": [
    "### Play around with the other variables"
   ]
  },
  {
   "cell_type": "code",
   "execution_count": 1805,
   "id": "bf21ffb0",
   "metadata": {},
   "outputs": [
    {
     "name": "stdout",
     "output_type": "stream",
     "text": [
      "Precision = 0.306,Recall = 0.245,Block Range = 0.242,F_score = 0.291\n"
     ]
    }
   ],
   "source": [
    "jan_full[\"other_bin\"] = 0\n",
    "jan_full.loc[(aug_full.is_new_com == 0)&(aug_full.del_exp_cnt_365 >=1),\"other_bin\"] = 1\n",
    "\n",
    "metric(jan_full,\"other_bin\")"
   ]
  },
  {
   "cell_type": "markdown",
   "id": "b6f3de8f",
   "metadata": {},
   "source": [
    "### Synthetic strategy"
   ]
  },
  {
   "cell_type": "code",
   "execution_count": 1806,
   "id": "b55b6724",
   "metadata": {},
   "outputs": [],
   "source": [
    "jan_full[\"h_boss_ratio_begin_bin\"] = 0\n",
    "jan_full.loc[(jan_full.h_boss_ratio_begin >0.4),\"h_boss_ratio_begin_bin\"] = 1"
   ]
  },
  {
   "cell_type": "markdown",
   "id": "4d6ba4f3",
   "metadata": {},
   "source": [
    "#### strategy 1"
   ]
  },
  {
   "cell_type": "code",
   "execution_count": 1832,
   "id": "ed736761",
   "metadata": {},
   "outputs": [
    {
     "name": "stdout",
     "output_type": "stream",
     "text": [
      "Precision = 0.421,Recall = 0.288,Block Range = 0.186,F_score = 0.385\n"
     ]
    }
   ],
   "source": [
    "mar_full[\"combine_bin_te_1\"] = 0\n",
    "mar_full.loc[(mar_full.is_new_com == 0)&(((mar_full.h_boss_ratio_begin_bin == 1))|((mar_full.actj_365 <4)&(mar_full.exposure_pv_14 <8)))&(mar_full.exposure_pv_180>=1),\"combine_bin_te_1\"] = 1\n",
    "\n",
    "metric(mar_full,\"combine_bin_te_1\")"
   ]
  },
  {
   "cell_type": "code",
   "execution_count": 1835,
   "id": "a6f8f5e3",
   "metadata": {},
   "outputs": [
    {
     "name": "stdout",
     "output_type": "stream",
     "text": [
      "Precision = 0.421,Recall = 0.288,Block Range = 0.186,F_score = 0.385\n"
     ]
    }
   ],
   "source": [
    "metric(mar_full,\"combine_bin_te_1\")"
   ]
  },
  {
   "cell_type": "markdown",
   "id": "b4214848",
   "metadata": {},
   "source": [
    "#### strategy 2"
   ]
  },
  {
   "cell_type": "code",
   "execution_count": 1106,
   "id": "830692b7",
   "metadata": {},
   "outputs": [
    {
     "name": "stdout",
     "output_type": "stream",
     "text": [
      "Precision = 0.496,Recall = 0.306,Block Range = 0.135,F_score = 0.441\n"
     ]
    }
   ],
   "source": [
    "aug_full[\"combine_bin_te_2\"] = 0\n",
    "aug_full.loc[(aug_full.is_new_com == 0)&(((aug_full.h_boss_ratio_begin_bin == 1))|((aug_full.actj_365 <4)&(aug_full.exposure_pv_14 <8)))&((aug_full.del_exp_cnt_365>=1)|(aug_full.exposure_pv_90>=1)),\"combine_bin_te_2\"] = 1\n",
    "\n",
    "#aug_full.loc[(((aug_full.h_boss_ratio_begin_bin == 1))|((aug_full.actj_365 <4)&(aug_full.exposure_pv_14 <8)))&(aug_full.exposure_pv_180>=1),\"combine_bin_te\"] = 1\n",
    "#aug_full.loc[((aug_full.h_boss_ratio_begin_bin == 1))|((aug_full.actj_365 <4)&(aug_full.exposure_pv_14 <8))&((aug_full.exposure_pv_180>=1)),\"combine_bin_te\"] = 1\n",
    "\n",
    "metric(aug_full,\"combine_bin_te_2\")"
   ]
  },
  {
   "cell_type": "markdown",
   "id": "5a8a6e8d",
   "metadata": {},
   "source": [
    "#### strategy 3"
   ]
  },
  {
   "cell_type": "code",
   "execution_count": 1107,
   "id": "12d55416",
   "metadata": {},
   "outputs": [
    {
     "name": "stdout",
     "output_type": "stream",
     "text": [
      "Precision = 0.473,Recall = 0.362,Block Range = 0.179,F_score = 0.446\n"
     ]
    }
   ],
   "source": [
    "aug_full[\"combine_bin_te_3\"] = 0\n",
    "\n",
    "con1 = ((aug_full.h_boss_ratio_begin >0.4)&(aug_full.brand_scale == 0))|(aug_full.actj_365 <2)&(aug_full.exposure_pv_14 < 8)&(aug_full.exposure_pv_180>=1)\n",
    "con2 = ((aug_full.h_boss_ratio_begin >0.2)&(aug_full.brand_scale == \"0-20人\"))|(aug_full.actj_365 <6)&(aug_full.exposure_pv_14 <20)&(aug_full.exposure_pv_180>=6)\n",
    "con3 = ((aug_full.h_boss_ratio_begin >0)&(aug_full.brand_scale == \"20-99人\"))|(aug_full.actj_365 <2)&(aug_full.exposure_pv_14 < 8)&(aug_full.exposure_pv_180>=4)\n",
    "con4 = ((aug_full.h_boss_ratio_begin >0)&(aug_full.brand_scale == \"100-499人\"))|(aug_full.actj_365 <2)&(aug_full.exposure_pv_14 < 8)&(aug_full.exposure_pv_180>=1)\n",
    "con5 = ((aug_full.m_boss_ratio_begin>0.4)&(aug_full.brand_scale == \"500-999人\"))|(aug_full.actj_365 <2)&(aug_full.exposure_pv_14 < 8)&(aug_full.exposure_pv_180>=1)\n",
    "\n",
    "aug_full.loc[(aug_full.is_new_com == 0)&(con1|con2|con3|con4|con5),\"combine_bin_te_3\"] = 1\n",
    "\n",
    "metric(aug_full,\"combine_bin_te_3\")"
   ]
  },
  {
   "cell_type": "markdown",
   "id": "b6f8249d",
   "metadata": {},
   "source": [
    "#### strategy 4"
   ]
  },
  {
   "cell_type": "code",
   "execution_count": 1108,
   "id": "85216e5e",
   "metadata": {},
   "outputs": [
    {
     "name": "stdout",
     "output_type": "stream",
     "text": [
      "Precision = 0.475,Recall = 0.364,Block Range = 0.187,F_score = 0.448\n"
     ]
    }
   ],
   "source": [
    "aug_full[\"combine_bin_te_4\"] = 0\n",
    "\n",
    "con1 = ((aug_full.h_boss_ratio_begin >0.4)&(aug_full.brand_scale == 0))|(aug_full.actj_365 <2)&(aug_full.exposure_pv_14 < 8)&(aug_full.exposure_pv_180>=1)\n",
    "con2 = ((aug_full.h_boss_ratio_begin >0.2)&(aug_full.brand_scale == \"0-20人\"))|(aug_full.actj_365 <6)&(aug_full.exposure_pv_14 <20)&(aug_full.exposure_pv_180>=6)\n",
    "con3 = ((aug_full.h_boss_ratio_begin >0)&(aug_full.brand_scale == \"20-99人\"))|(aug_full.actj_365 <2)&(aug_full.exposure_pv_14 < 8)&(aug_full.exposure_pv_180>=4)\n",
    "con4 = ((aug_full.h_boss_ratio_begin >0.3)&(aug_full.brand_scale == \"100-499人\"))|(aug_full.actj_365 <2)&(aug_full.exposure_pv_14 < 8)&(aug_full.exposure_pv_180>=1)\n",
    "con5 = ((aug_full.m_boss_ratio_begin>0.4)&(aug_full.brand_scale == \"500-999人\"))|(aug_full.actj_365 <2)&(aug_full.exposure_pv_14 < 8)&(aug_full.exposure_pv_180>=1)\n",
    "con6 = ((aug_full.h_boss_ratio_begin>0)&(aug_full.brand_scale == \"1000-9999人\"))|(aug_full.actj_365 <2)&(aug_full.exposure_pv_14 < 8)&(aug_full.exposure_pv_180>=1)\n",
    "\n",
    "aug_full.loc[(aug_full.is_new_com == 0)&(con1|con2|con3|con4|con5|con6),\"combine_bin_te_4\"] = 1\n",
    "\n",
    "metric(aug_full,\"combine_bin_te_4\")"
   ]
  },
  {
   "cell_type": "markdown",
   "id": "dc606b9c",
   "metadata": {},
   "source": [
    "#### strategy 5"
   ]
  },
  {
   "cell_type": "code",
   "execution_count": 1676,
   "id": "ddc644fa",
   "metadata": {},
   "outputs": [
    {
     "name": "stdout",
     "output_type": "stream",
     "text": [
      "Precision = 0.428,Recall = 0.479,Block Range = 0.131,F_score = 0.437\n"
     ]
    }
   ],
   "source": [
    "con = ((aug_full.h_boss_ratio_begin >0.3)|(aug_full.olj_1== 0))&((aug_full.del_exp_cnt_365>=0)&(aug_full.exposure_pv_180>=0))\n",
    "\n",
    "aug_full[\"com_bin_final\"] = 0\n",
    "aug_full.loc[(con)&(aug_full.is_new_com == 0),\"com_bin_final\"] = 1\n",
    "\n",
    "metric(aug_full,\"com_bin_final\")"
   ]
  },
  {
   "cell_type": "markdown",
   "id": "0a9a846b",
   "metadata": {},
   "source": [
    "#### strategy 6"
   ]
  },
  {
   "cell_type": "code",
   "execution_count": 1761,
   "id": "f7855ddc",
   "metadata": {},
   "outputs": [
    {
     "name": "stdout",
     "output_type": "stream",
     "text": [
      "Precision = 0.512,Recall = 0.413,Block Range = 0.168,F_score = 0.489\n"
     ]
    }
   ],
   "source": [
    "con = (((aug_full.h_boss_ratio_begin >0.3)|(aug_full.h_boss_ratio_end >0.3))|((aug_full.olj_1== 0)&((aug_full.del_exp_cnt_365>0)&(aug_full.exposure_pv_180>0))))\n",
    "\n",
    "aug_full[\"com_bin_final\"] = 0\n",
    "aug_full.loc[(con)&(aug_full.is_new_com == 0),\"com_bin_final\"] = 1\n",
    "\n",
    "metric(aug_full,\"com_bin_final\")"
   ]
  },
  {
   "cell_type": "markdown",
   "id": "bc348b92",
   "metadata": {},
   "source": [
    "#### strategy 7"
   ]
  },
  {
   "cell_type": "code",
   "execution_count": 1758,
   "id": "4a17cd48",
   "metadata": {},
   "outputs": [
    {
     "name": "stdout",
     "output_type": "stream",
     "text": [
      "Precision = 0.547,Recall = 0.371,Block Range = 0.168,F_score = 0.500\n"
     ]
    }
   ],
   "source": [
    "con = (((aug_full.h_boss_ratio_begin >0.3)|(aug_full.h_boss_ratio_end >0.3))|((aug_full.olj_1==0)&((aug_full.del_exp_cnt_365>=27)|(aug_full.exposure_pv_180>=698)|(aug_full.accepts_p_365>=10))))\n",
    "\n",
    "aug_full[\"com_bin_final\"] = 0\n",
    "aug_full.loc[(con)&(aug_full.is_new_com == 0),\"com_bin_final\"] = 1\n",
    "\n",
    "metric(aug_full,\"com_bin_final\")"
   ]
  },
  {
   "cell_type": "code",
   "execution_count": 1767,
   "id": "105d12df",
   "metadata": {},
   "outputs": [
    {
     "data": {
      "text/plain": [
       "0             90041\n",
       "20-99人        36936\n",
       "100-499人      26007\n",
       "0-20人         15970\n",
       "1000-9999人    13535\n",
       "10000人以上      10937\n",
       "500-999人       7696\n",
       "Name: brand_scale, dtype: int64"
      ]
     },
     "execution_count": 1767,
     "metadata": {},
     "output_type": "execute_result"
    }
   ],
   "source": [
    "aug_full.brand_scale.value_counts()"
   ]
  },
  {
   "cell_type": "markdown",
   "id": "5a13d973",
   "metadata": {},
   "source": [
    "#### strategy 8"
   ]
  },
  {
   "cell_type": "code",
   "execution_count": 1813,
   "id": "f92164b9",
   "metadata": {},
   "outputs": [
    {
     "name": "stdout",
     "output_type": "stream",
     "text": [
      "Precision = 0.462,Recall = 0.340,Block Range = 0.177,F_score = 0.431\n"
     ]
    }
   ],
   "source": [
    "con = ((((jan_full.h_boss_ratio_begin >0.3)|(jan_full.h_boss_ratio_end >0.3))))|((jan_full.olj_1==0)&((jan_full.del_exp_cnt_365 >= 27)|(jan_full.exposure_pv_180>698)|(jan_full.accepts_p_365>=10)))\n",
    "\n",
    "jan_full[\"com_bin_final\"] = 0\n",
    "jan_full.loc[(con)&(jan_full.is_new_com == 0),\"com_bin_final\"] = 1\n",
    "\n",
    "metric(jan_full,\"com_bin_final\")"
   ]
  },
  {
   "cell_type": "code",
   "execution_count": 1838,
   "id": "20210bf6",
   "metadata": {},
   "outputs": [
    {
     "name": "stdout",
     "output_type": "stream",
     "text": [
      "Precision = 0.457,Recall = 0.271,Block Range = 0.176,F_score = 0.402\n"
     ]
    }
   ],
   "source": [
    "con = ((((feb_full.h_boss_ratio_begin >0.3)|(feb_full.h_boss_ratio_end >0.3))))|((feb_full.olj_1==0)&((feb_full.del_exp_cnt_365 >= 27)|(feb_full.exposure_pv_180>698)|(feb_full.accepts_p_365>=10)))\n",
    "\n",
    "feb_full[\"com_bin_final\"] = 0\n",
    "feb_full.loc[(con)&(feb_full.is_new_com == 0),\"com_bin_final\"] = 1\n",
    "\n",
    "metric(feb_full,\"com_bin_final\")"
   ]
  },
  {
   "cell_type": "code",
   "execution_count": 1839,
   "id": "7a5d4dc6",
   "metadata": {},
   "outputs": [
    {
     "name": "stdout",
     "output_type": "stream",
     "text": [
      "Precision = 0.462,Recall = 0.340,Block Range = 0.177,F_score = 0.431\n"
     ]
    }
   ],
   "source": [
    "con = ((((mar_full.h_boss_ratio_begin >0.3)|(mar_full.h_boss_ratio_end >0.3))))|((mar_full.olj_1==0)&((mar_full.del_exp_cnt_365 >= 27)|(mar_full.exposure_pv_180>698)|(mar_full.accepts_p_365>=10)))\n",
    "\n",
    "mar_full[\"com_bin_final\"] = 0\n",
    "mar_full.loc[(con)&(mar_full.is_new_com == 0),\"com_bin_final\"] = 1\n",
    "\n",
    "metric(mar_full,\"com_bin_final\")"
   ]
  },
  {
   "cell_type": "code",
   "execution_count": 1828,
   "id": "f9d47b87",
   "metadata": {},
   "outputs": [
    {
     "name": "stdout",
     "output_type": "stream",
     "text": [
      "Precision = 0.438,Recall = 0.336,Block Range = 0.179,F_score = 0.413\n"
     ]
    }
   ],
   "source": [
    "con = ((((apr_full.h_boss_ratio_begin >0.3)|(apr_full.h_boss_ratio_end >0.3))))|((apr_full.olj_1==0)&((apr_full.del_exp_cnt_365 >= 27)|(apr_full.exposure_pv_180>698)|(apr_full.accepts_p_365>=10)))\n",
    "\n",
    "apr_full[\"com_bin_final\"] = 0\n",
    "apr_full.loc[(con)&(apr_full.is_new_com == 0),\"com_bin_final\"] = 1\n",
    "\n",
    "metric(apr_full,\"com_bin_final\")"
   ]
  },
  {
   "cell_type": "markdown",
   "id": "d060adfc",
   "metadata": {},
   "source": [
    "## Just play around"
   ]
  },
  {
   "cell_type": "code",
   "execution_count": 1736,
   "id": "29ab42b2",
   "metadata": {},
   "outputs": [],
   "source": [
    "#con1 = ((aug_full.h_boss_ratio_begin >0.3)|((aug_full.olj_1== 0)&((aug_full.view_p_365>=1))))&((aug_full.del_exp_cnt_365>=3)|(aug_full.exposure_pv_180>=640))\n",
    "con1 = (aug_full.olj_1== 0)\n",
    "#con1 = ((aug_full.h_boss_ratio_begin >0.3)|(aug_full.h_boss_ratio_end >0.3))\n",
    "\n",
    "#con2 = (((aug_full.olj_1== 0)&((aug_full.actj_365>=1)|(aug_full.del_exp_cnt_365>=3)|(aug_full.duplicate_af_pv_365>=643))))"
   ]
  },
  {
   "cell_type": "code",
   "execution_count": 1737,
   "id": "44dda591",
   "metadata": {},
   "outputs": [],
   "source": [
    "aug_full[\"com_bin_final\"] = 0\n",
    "\n",
    "aug_full.loc[(con1)&(aug_full.is_new_com == 0),\"com_bin_final\"] = 1"
   ]
  },
  {
   "cell_type": "code",
   "execution_count": 1738,
   "id": "24a3ff7f",
   "metadata": {},
   "outputs": [
    {
     "name": "stdout",
     "output_type": "stream",
     "text": [
      "Precision = 0.408,Recall = 0.399,Block Range = 0.000,F_score = 0.406\n"
     ]
    }
   ],
   "source": [
    "metric(aug_full,\"com_bin_final\")"
   ]
  },
  {
   "cell_type": "code",
   "execution_count": 1747,
   "id": "3fd558d8",
   "metadata": {},
   "outputs": [
    {
     "name": "stdout",
     "output_type": "stream",
     "text": [
      "0\n",
      "Precision = 0.549,Recall = 0.470,Block Range = 0.469,F_score = 0.531\n",
      "1\n",
      "Precision = 0.549,Recall = 0.470,Block Range = 0.469,F_score = 0.531\n",
      "2\n",
      "Precision = 0.549,Recall = 0.470,Block Range = 0.469,F_score = 0.531\n",
      "3\n",
      "Precision = 0.549,Recall = 0.470,Block Range = 0.469,F_score = 0.531\n",
      "4\n",
      "Precision = 0.549,Recall = 0.470,Block Range = 0.469,F_score = 0.531\n",
      "5\n",
      "Precision = 0.549,Recall = 0.470,Block Range = 0.469,F_score = 0.531\n",
      "6\n",
      "Precision = 0.549,Recall = 0.470,Block Range = 0.469,F_score = 0.531\n",
      "7\n",
      "Precision = 0.549,Recall = 0.470,Block Range = 0.469,F_score = 0.531\n",
      "8\n",
      "Precision = 0.549,Recall = 0.470,Block Range = 0.469,F_score = 0.531\n",
      "9\n",
      "Precision = 0.549,Recall = 0.470,Block Range = 0.469,F_score = 0.531\n",
      "10\n",
      "Precision = 0.549,Recall = 0.470,Block Range = 0.469,F_score = 0.531\n",
      "11\n",
      "Precision = 0.549,Recall = 0.470,Block Range = 0.469,F_score = 0.531\n",
      "12\n",
      "Precision = 0.549,Recall = 0.470,Block Range = 0.469,F_score = 0.531\n",
      "13\n",
      "Precision = 0.549,Recall = 0.470,Block Range = 0.469,F_score = 0.531\n",
      "14\n",
      "Precision = 0.549,Recall = 0.470,Block Range = 0.469,F_score = 0.531\n",
      "15\n",
      "Precision = 0.549,Recall = 0.470,Block Range = 0.469,F_score = 0.531\n",
      "16\n",
      "Precision = 0.549,Recall = 0.470,Block Range = 0.469,F_score = 0.531\n",
      "17\n",
      "Precision = 0.549,Recall = 0.470,Block Range = 0.469,F_score = 0.531\n",
      "18\n",
      "Precision = 0.549,Recall = 0.470,Block Range = 0.469,F_score = 0.531\n",
      "19\n",
      "Precision = 0.549,Recall = 0.470,Block Range = 0.469,F_score = 0.531\n",
      "20\n",
      "Precision = 0.549,Recall = 0.470,Block Range = 0.469,F_score = 0.531\n",
      "21\n",
      "Precision = 0.549,Recall = 0.470,Block Range = 0.469,F_score = 0.531\n",
      "22\n",
      "Precision = 0.549,Recall = 0.470,Block Range = 0.469,F_score = 0.531\n",
      "23\n",
      "Precision = 0.549,Recall = 0.470,Block Range = 0.469,F_score = 0.531\n",
      "24\n",
      "Precision = 0.549,Recall = 0.470,Block Range = 0.469,F_score = 0.531\n",
      "25\n",
      "Precision = 0.549,Recall = 0.470,Block Range = 0.469,F_score = 0.531\n",
      "26\n",
      "Precision = 0.549,Recall = 0.470,Block Range = 0.469,F_score = 0.531\n",
      "27\n",
      "Precision = 0.549,Recall = 0.470,Block Range = 0.469,F_score = 0.531\n",
      "28\n",
      "Precision = 0.549,Recall = 0.470,Block Range = 0.469,F_score = 0.531\n",
      "29\n",
      "Precision = 0.549,Recall = 0.470,Block Range = 0.469,F_score = 0.531\n",
      "30\n",
      "Precision = 0.549,Recall = 0.470,Block Range = 0.469,F_score = 0.531\n",
      "31\n",
      "Precision = 0.549,Recall = 0.470,Block Range = 0.469,F_score = 0.531\n",
      "32\n",
      "Precision = 0.549,Recall = 0.470,Block Range = 0.469,F_score = 0.531\n",
      "33\n",
      "Precision = 0.549,Recall = 0.470,Block Range = 0.469,F_score = 0.531\n",
      "34\n",
      "Precision = 0.549,Recall = 0.470,Block Range = 0.469,F_score = 0.531\n",
      "35\n",
      "Precision = 0.549,Recall = 0.470,Block Range = 0.469,F_score = 0.531\n",
      "36\n",
      "Precision = 0.549,Recall = 0.470,Block Range = 0.469,F_score = 0.531\n",
      "37\n",
      "Precision = 0.549,Recall = 0.470,Block Range = 0.469,F_score = 0.531\n",
      "38\n",
      "Precision = 0.549,Recall = 0.470,Block Range = 0.469,F_score = 0.531\n",
      "39\n",
      "Precision = 0.549,Recall = 0.470,Block Range = 0.469,F_score = 0.531\n",
      "40\n",
      "Precision = 0.549,Recall = 0.470,Block Range = 0.469,F_score = 0.531\n",
      "41\n",
      "Precision = 0.549,Recall = 0.470,Block Range = 0.469,F_score = 0.531\n",
      "42\n",
      "Precision = 0.549,Recall = 0.470,Block Range = 0.469,F_score = 0.531\n",
      "43\n",
      "Precision = 0.549,Recall = 0.470,Block Range = 0.469,F_score = 0.531\n",
      "44\n",
      "Precision = 0.549,Recall = 0.470,Block Range = 0.469,F_score = 0.531\n",
      "45\n",
      "Precision = 0.549,Recall = 0.470,Block Range = 0.469,F_score = 0.531\n",
      "46\n",
      "Precision = 0.549,Recall = 0.470,Block Range = 0.469,F_score = 0.531\n",
      "47\n",
      "Precision = 0.549,Recall = 0.470,Block Range = 0.469,F_score = 0.531\n",
      "48\n",
      "Precision = 0.549,Recall = 0.470,Block Range = 0.469,F_score = 0.531\n",
      "49\n",
      "Precision = 0.549,Recall = 0.470,Block Range = 0.469,F_score = 0.531\n",
      "50\n",
      "Precision = 0.549,Recall = 0.470,Block Range = 0.469,F_score = 0.531\n",
      "51\n",
      "Precision = 0.549,Recall = 0.470,Block Range = 0.469,F_score = 0.531\n",
      "52\n",
      "Precision = 0.549,Recall = 0.470,Block Range = 0.469,F_score = 0.531\n",
      "53\n",
      "Precision = 0.549,Recall = 0.470,Block Range = 0.469,F_score = 0.531\n",
      "54\n",
      "Precision = 0.549,Recall = 0.470,Block Range = 0.469,F_score = 0.531\n",
      "55\n",
      "Precision = 0.549,Recall = 0.470,Block Range = 0.469,F_score = 0.531\n",
      "56\n",
      "Precision = 0.549,Recall = 0.470,Block Range = 0.469,F_score = 0.531\n",
      "57\n",
      "Precision = 0.549,Recall = 0.470,Block Range = 0.469,F_score = 0.531\n",
      "58\n",
      "Precision = 0.549,Recall = 0.470,Block Range = 0.469,F_score = 0.531\n",
      "59\n",
      "Precision = 0.549,Recall = 0.470,Block Range = 0.469,F_score = 0.531\n",
      "60\n",
      "Precision = 0.549,Recall = 0.470,Block Range = 0.469,F_score = 0.531\n",
      "61\n",
      "Precision = 0.549,Recall = 0.470,Block Range = 0.469,F_score = 0.531\n",
      "62\n",
      "Precision = 0.549,Recall = 0.470,Block Range = 0.469,F_score = 0.531\n",
      "63\n",
      "Precision = 0.549,Recall = 0.470,Block Range = 0.469,F_score = 0.531\n",
      "64\n",
      "Precision = 0.549,Recall = 0.470,Block Range = 0.469,F_score = 0.531\n",
      "65\n",
      "Precision = 0.549,Recall = 0.470,Block Range = 0.469,F_score = 0.531\n",
      "66\n",
      "Precision = 0.549,Recall = 0.470,Block Range = 0.469,F_score = 0.531\n",
      "67\n",
      "Precision = 0.549,Recall = 0.470,Block Range = 0.469,F_score = 0.531\n",
      "68\n",
      "Precision = 0.549,Recall = 0.470,Block Range = 0.469,F_score = 0.531\n",
      "69\n",
      "Precision = 0.549,Recall = 0.470,Block Range = 0.469,F_score = 0.531\n",
      "70\n",
      "Precision = 0.549,Recall = 0.470,Block Range = 0.469,F_score = 0.531\n",
      "71\n",
      "Precision = 0.549,Recall = 0.470,Block Range = 0.469,F_score = 0.531\n",
      "72\n",
      "Precision = 0.549,Recall = 0.470,Block Range = 0.469,F_score = 0.531\n",
      "73\n",
      "Precision = 0.549,Recall = 0.470,Block Range = 0.469,F_score = 0.531\n",
      "74\n",
      "Precision = 0.549,Recall = 0.470,Block Range = 0.469,F_score = 0.531\n",
      "75\n",
      "Precision = 0.549,Recall = 0.470,Block Range = 0.469,F_score = 0.531\n",
      "76\n",
      "Precision = 0.549,Recall = 0.470,Block Range = 0.469,F_score = 0.531\n",
      "77\n",
      "Precision = 0.549,Recall = 0.470,Block Range = 0.469,F_score = 0.531\n",
      "78\n",
      "Precision = 0.549,Recall = 0.470,Block Range = 0.469,F_score = 0.531\n",
      "79\n",
      "Precision = 0.549,Recall = 0.470,Block Range = 0.469,F_score = 0.531\n",
      "80\n",
      "Precision = 0.549,Recall = 0.470,Block Range = 0.469,F_score = 0.531\n",
      "81\n",
      "Precision = 0.549,Recall = 0.470,Block Range = 0.469,F_score = 0.531\n",
      "82\n",
      "Precision = 0.549,Recall = 0.470,Block Range = 0.469,F_score = 0.531\n",
      "83\n",
      "Precision = 0.549,Recall = 0.470,Block Range = 0.469,F_score = 0.531\n",
      "84\n",
      "Precision = 0.549,Recall = 0.470,Block Range = 0.469,F_score = 0.531\n",
      "85\n",
      "Precision = 0.549,Recall = 0.470,Block Range = 0.469,F_score = 0.531\n",
      "86\n",
      "Precision = 0.549,Recall = 0.470,Block Range = 0.469,F_score = 0.531\n",
      "87\n",
      "Precision = 0.549,Recall = 0.470,Block Range = 0.469,F_score = 0.531\n",
      "88\n",
      "Precision = 0.549,Recall = 0.470,Block Range = 0.469,F_score = 0.531\n",
      "89\n",
      "Precision = 0.549,Recall = 0.470,Block Range = 0.469,F_score = 0.531\n",
      "90\n",
      "Precision = 0.549,Recall = 0.470,Block Range = 0.469,F_score = 0.531\n",
      "91\n",
      "Precision = 0.549,Recall = 0.470,Block Range = 0.469,F_score = 0.531\n",
      "92\n",
      "Precision = 0.549,Recall = 0.470,Block Range = 0.469,F_score = 0.531\n",
      "93\n",
      "Precision = 0.549,Recall = 0.470,Block Range = 0.469,F_score = 0.531\n",
      "94\n",
      "Precision = 0.549,Recall = 0.470,Block Range = 0.469,F_score = 0.531\n",
      "95\n",
      "Precision = 0.549,Recall = 0.470,Block Range = 0.469,F_score = 0.531\n",
      "96\n",
      "Precision = 0.549,Recall = 0.470,Block Range = 0.469,F_score = 0.531\n",
      "97\n",
      "Precision = 0.549,Recall = 0.470,Block Range = 0.469,F_score = 0.531\n",
      "98\n",
      "Precision = 0.549,Recall = 0.470,Block Range = 0.469,F_score = 0.531\n",
      "99\n",
      "Precision = 0.549,Recall = 0.470,Block Range = 0.469,F_score = 0.531\n"
     ]
    }
   ],
   "source": [
    "for i in range(100):\n",
    "    aug_full[\"com_bin_tr\"] = 0\n",
    "    con1 = (((aug_full.m_boss_ratio_begin >0.3)|(aug_full.h_boss_ratio_end >0.3))|((aug_full.olj_1==0)&((aug_full.del_exp_cnt_365>=27)|(aug_full.exposure_pv_180>=698))))\n",
    "    print(i)\n",
    "    aug_full.loc[con1&(aug_full.is_new_com == 0),\"com_bin_tr\"] = 1\n",
    "    metric(aug_full,\"com_bin_tr\")"
   ]
  },
  {
   "cell_type": "markdown",
   "id": "17835244",
   "metadata": {},
   "source": [
    "# Strategy Presentation"
   ]
  },
  {
   "cell_type": "markdown",
   "id": "6f05f96f",
   "metadata": {},
   "source": [
    "## Final strategy of white head block"
   ]
  },
  {
   "cell_type": "markdown",
   "id": "24a2b43e",
   "metadata": {},
   "source": [
    "**所有策略用到条件**：\n",
    "- con1: h_boss_ratio_begin >0.3\n",
    "- con2: h_boss_ratio_end >0.3\n",
    "- con3: olj_1== 0\n",
    "- con4: del_exp_cnt_365>=27\n",
    "- con5: exposure_pv_180>=698\n",
    "- con6: accepts_p_365>=10\n",
    "\n",
    "**最终合成策略**：\n",
    "$$\n",
    "con1 \\cup con2 \\cup (con3 \\cap (con4 \\cup con5 \\cup con6))\n",
    "$$"
   ]
  },
  {
   "cell_type": "code",
   "execution_count": null,
   "id": "62ab5f29",
   "metadata": {},
   "outputs": [],
   "source": []
  }
 ],
 "metadata": {
  "kernelspec": {
   "display_name": "Python 3",
   "language": "python",
   "name": "python3"
  },
  "language_info": {
   "codemirror_mode": {
    "name": "ipython",
    "version": 3
   },
   "file_extension": ".py",
   "mimetype": "text/x-python",
   "name": "python",
   "nbconvert_exporter": "python",
   "pygments_lexer": "ipython3",
   "version": "3.8.8"
  },
  "toc": {
   "base_numbering": 1,
   "nav_menu": {},
   "number_sections": true,
   "sideBar": true,
   "skip_h1_title": false,
   "title_cell": "Table of Contents",
   "title_sidebar": "Contents",
   "toc_cell": false,
   "toc_position": {
    "height": "calc(100% - 180px)",
    "left": "10px",
    "top": "150px",
    "width": "165px"
   },
   "toc_section_display": true,
   "toc_window_display": true
  }
 },
 "nbformat": 4,
 "nbformat_minor": 5
}
